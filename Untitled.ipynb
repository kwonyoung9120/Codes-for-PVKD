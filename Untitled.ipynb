{
 "cells": [
  {
   "cell_type": "code",
   "execution_count": 1,
   "id": "0d88a1de-a11d-4343-95d1-271d2f6578a7",
   "metadata": {},
   "outputs": [],
   "source": [
    "import os\n",
    "import time\n",
    "import argparse\n",
    "import sys\n",
    "import numpy as np\n",
    "import torch\n",
    "import torch.optim as optim\n",
    "from tqdm import tqdm\n",
    "\n",
    "from utils.metric_util import per_class_iu, fast_hist_crop\n",
    "from dataloader.pc_dataset import get_SemKITTI_label_name\n",
    "from builder import data_builder, model_builder, loss_builder\n",
    "from config.config import load_config_data\n"
   ]
  },
  {
   "cell_type": "code",
   "execution_count": null,
   "id": "075dda94-43c0-450b-8070-de3fdd9fcaeb",
   "metadata": {},
   "outputs": [],
   "source": []
  },
  {
   "cell_type": "code",
   "execution_count": 2,
   "id": "58d88140-e18f-4a0f-a1da-4f74c2a7ca76",
   "metadata": {},
   "outputs": [],
   "source": [
    "config_path = 'config/nuScenes.yaml'\n",
    "configs = load_config_data(config_path)\n",
    "dataset_config = configs['dataset_params']\n",
    "train_dataloader_config = configs['train_data_loader']\n",
    "val_dataloader_config = configs['val_data_loader']\n",
    "\n",
    "val_batch_size = val_dataloader_config['batch_size']\n",
    "train_batch_size = train_dataloader_config['batch_size']\n",
    "\n",
    "model_config = configs['model_params']\n",
    "train_hypers = configs['train_params']\n",
    "\n",
    "grid_size = model_config['output_shape']\n",
    "num_class = model_config['num_class']\n",
    "ignore_label = dataset_config['ignore_label']\n",
    "\n",
    "model_load_path = train_hypers['model_load_path']\n",
    "model_save_path = train_hypers['model_save_path']"
   ]
  },
  {
   "cell_type": "code",
   "execution_count": 3,
   "id": "adc2caba-0e89-4434-be33-0afff13ddf01",
   "metadata": {},
   "outputs": [],
   "source": [
    "from dataloader.pc_dataset import get_pc_model_class\n",
    "def build(dataset_config,\n",
    "          train_dataloader_config,\n",
    "          val_dataloader_config,\n",
    "          grid_size=[480, 360, 32],\n",
    "          use_tta=False,\n",
    "          use_multiscan=False,\n",
    "          use_waymo=False):\n",
    "    data_path = train_dataloader_config[\"data_path\"]\n",
    "    train_imageset = train_dataloader_config[\"imageset\"]\n",
    "    val_imageset = val_dataloader_config[\"imageset\"]\n",
    "    train_ref = train_dataloader_config[\"return_ref\"]\n",
    "    val_ref = val_dataloader_config[\"return_ref\"]\n",
    "\n",
    "    label_mapping = dataset_config[\"label_mapping\"]\n",
    "\n",
    "    SemKITTI = get_pc_model_class(dataset_config['pc_dataset_type'])\n",
    "\n",
    "    nusc = None\n",
    "    train_pt_dataset = SemKITTI(data_path, imageset=train_imageset,\n",
    "                                return_ref=train_ref, label_mapping=label_mapping, nusc=nusc)\n",
    "\n",
    "    return train_pt_dataset"
   ]
  },
  {
   "cell_type": "code",
   "execution_count": 6,
   "id": "7d821db5-936a-40a5-a071-5d6eb31b573e",
   "metadata": {},
   "outputs": [],
   "source": [
    "from ipygany import PointCloud,Scene\n",
    "train_pt_dataset = build(dataset_config,\n",
    "          train_dataloader_config,\n",
    "          val_dataloader_config,\n",
    "          grid_size=[480, 360, 32],\n",
    "          use_tta=False,\n",
    "          use_multiscan=False,\n",
    "          use_waymo=False)\n",
    "\n",
    "train_pt_dataset.im_idx[0]\n",
    "train_pt_dataset.nusc\n",
    "pt, label, _ = train_pt_dataset[0]"
   ]
  },
  {
   "cell_type": "code",
   "execution_count": 7,
   "id": "497f6807-ee9a-45c3-89ed-646db87c688d",
   "metadata": {},
   "outputs": [
    {
     "data": {
      "text/plain": [
       "(34720, 3)"
      ]
     },
     "execution_count": 7,
     "metadata": {},
     "output_type": "execute_result"
    }
   ],
   "source": [
    "pt.shape\n"
   ]
  },
  {
   "cell_type": "code",
   "execution_count": 8,
   "id": "83511850-94f7-4c76-80a2-f7836178fab3",
   "metadata": {},
   "outputs": [
    {
     "data": {
      "text/plain": [
       "array([[12],\n",
       "       [12],\n",
       "       [12],\n",
       "       ...,\n",
       "       [16],\n",
       "       [16],\n",
       "       [16]], dtype=uint8)"
      ]
     },
     "execution_count": 8,
     "metadata": {},
     "output_type": "execute_result"
    }
   ],
   "source": [
    "label"
   ]
  },
  {
   "cell_type": "code",
   "execution_count": 9,
   "id": "d89c24e2-72b9-4f88-8239-062024d871d7",
   "metadata": {},
   "outputs": [],
   "source": [
    "import matplotlib.pyplot as plt\n",
    "def get_cmap(n, name='hsv'):\n",
    "    '''Returns a function that maps each index in 0, 1, ..., n-1 to a distinct \n",
    "    RGB color; the keyword argument name must be a standard mpl colormap name.'''\n",
    "    return plt.cm.get_cmap(name, n)"
   ]
  },
  {
   "cell_type": "code",
   "execution_count": 10,
   "id": "297e22ac-a721-4cdc-b11f-73d38c60bdbe",
   "metadata": {},
   "outputs": [],
   "source": [
    "cmap = get_cmap(84)"
   ]
  },
  {
   "cell_type": "code",
   "execution_count": 11,
   "id": "ca4a3f44-aa54-4ac0-bdfd-fbec2dd3bf51",
   "metadata": {},
   "outputs": [],
   "source": [
    "import random\n",
    "label_map = list(range(84))\n",
    "cmap = cmap(label_map)\n"
   ]
  },
  {
   "cell_type": "code",
   "execution_count": 12,
   "id": "24d14bf5-748c-4120-845d-3ec3a3cf22d9",
   "metadata": {},
   "outputs": [
    {
     "name": "stdout",
     "output_type": "stream",
     "text": [
      "Jupyter environment detected. Enabling Open3D WebVisualizer.\n",
      "[Open3D INFO] WebRTC GUI backend enabled.\n",
      "[Open3D INFO] WebRTCWindowSystem: HTTP handshake server disabled.\n"
     ]
    }
   ],
   "source": [
    "import numpy as np\n",
    "import open3d as o3d"
   ]
  },
  {
   "cell_type": "code",
   "execution_count": 13,
   "id": "f85aaae7-4466-40fb-ade2-94338d5fdfaa",
   "metadata": {},
   "outputs": [],
   "source": [
    "pcd = o3d.geometry.PointCloud()\n",
    "pcd.points = o3d.utility.Vector3dVector(pt)\n",
    "pcd.colors = o3d.utility.Vector3dVector(cmap[list(label.squeeze()), :3])\n"
   ]
  },
  {
   "cell_type": "code",
   "execution_count": 14,
   "id": "64f00199-73b3-4b87-88b3-c2b86e17bdbd",
   "metadata": {},
   "outputs": [
    {
     "data": {
      "text/plain": [
       "(-12.069951, 16.788023)"
      ]
     },
     "execution_count": 14,
     "metadata": {},
     "output_type": "execute_result"
    }
   ],
   "source": [
    "np.unique(label)\n",
    "np.min(pt[:,2]), np.max(pt[:,2])"
   ]
  },
  {
   "cell_type": "code",
   "execution_count": 15,
   "id": "b264b764-ee0b-4c4b-aa71-5989b1e22af3",
   "metadata": {},
   "outputs": [
    {
     "data": {
      "text/plain": [
       "True"
      ]
     },
     "execution_count": 15,
     "metadata": {},
     "output_type": "execute_result"
    }
   ],
   "source": [
    "o3d.io.write_point_cloud('example.ply',pcd)"
   ]
  },
  {
   "cell_type": "code",
   "execution_count": null,
   "id": "3369d778-f712-4021-9149-a0dfa25594f4",
   "metadata": {},
   "outputs": [],
   "source": []
  }
 ],
 "metadata": {
  "kernelspec": {
   "display_name": "Python 3",
   "language": "python",
   "name": "python3"
  },
  "language_info": {
   "codemirror_mode": {
    "name": "ipython",
    "version": 3
   },
   "file_extension": ".py",
   "mimetype": "text/x-python",
   "name": "python",
   "nbconvert_exporter": "python",
   "pygments_lexer": "ipython3",
   "version": "3.8.5"
  }
 },
 "nbformat": 4,
 "nbformat_minor": 5
}
